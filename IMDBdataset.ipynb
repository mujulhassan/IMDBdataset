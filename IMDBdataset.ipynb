{
 "cells": [
  {
   "cell_type": "markdown",
   "metadata": {},
   "source": [
    "## IMDb Dataset"
   ]
  },
  {
   "cell_type": "markdown",
   "metadata": {},
   "source": [
    "the IMDB dataset is a set of 50,000 highly polarized reviews from the Internet movie database. These reviews are split into two, 25,000 for training and 25,000 for testing with each set consisting of 50% negative and 50% positive reviews. \n",
    "\n",
    "This dataset uses separate training and test sets because you should never test a machine learning model on the same data that you used to train it, as it could perform very differently on data that has not yet been seen. Therefore you care about a models performance on new data.\n",
    "\n",
    "### Hypothesis\n",
    "- The outputs can be predicted given the inputs\n",
    "- The available data is sufficiently informative to learn the relationship between inputs and outputs\n"
   ]
  },
  {
   "cell_type": "markdown",
   "metadata": {},
   "source": [
    "### Loading the dataset"
   ]
  },
  {
   "cell_type": "code",
   "execution_count": 1,
   "metadata": {},
   "outputs": [],
   "source": [
    "#Importing the necessary libraries\n",
    "import numpy as np\n",
    "import matplotlib.pyplot as plt\n",
    "import tensorflow as tf"
   ]
  },
  {
   "cell_type": "code",
   "execution_count": 2,
   "metadata": {},
   "outputs": [],
   "source": [
    "#Loading the IMDB dataset\n",
    "from tensorflow.keras.datasets import imdb\n",
    "(train_data, train_labels), (test_data, test_labels) = imdb.load_data(\n",
    "num_words=10000)"
   ]
  },
  {
   "cell_type": "markdown",
   "metadata": {},
   "source": [
    "The argument above, num_words=10000 means we will only keep the top 10,000 most frequesntly occuring words in the training data. Rare words will be discarded. This means we will be able to work with data of manageable size.\n",
    "\n",
    "Variables train_data and test_data are the lists of reviews, where each review is a list of word indices.\n",
    "train_labels and test_labels are lists of 0s and 1s, where 0 stands for negative and 1 stands for positive."
   ]
  },
  {
   "cell_type": "code",
   "execution_count": 3,
   "metadata": {},
   "outputs": [
    {
     "data": {
      "text/plain": [
       "25000"
      ]
     },
     "execution_count": 3,
     "metadata": {},
     "output_type": "execute_result"
    }
   ],
   "source": [
    "len(train_data)"
   ]
  },
  {
   "cell_type": "code",
   "execution_count": 4,
   "metadata": {},
   "outputs": [
    {
     "data": {
      "text/plain": [
       "25000"
      ]
     },
     "execution_count": 4,
     "metadata": {},
     "output_type": "execute_result"
    }
   ],
   "source": [
    "len(test_data)"
   ]
  },
  {
   "cell_type": "markdown",
   "metadata": {},
   "source": [
    "## Encoding\n",
    "\n",
    "Encoding the integer sequences into a binary matrix"
   ]
  },
  {
   "cell_type": "code",
   "execution_count": 5,
   "metadata": {},
   "outputs": [],
   "source": [
    "import numpy as np\n",
    "\n",
    "def vectorize_sequences(sequences, dimension=10000):\n",
    "    #creates an all zero matrix of shape (len(sequences),(dimension))\n",
    "    results = np.zeros((len(sequences), dimension))\n",
    "    for i, sequence in enumerate(sequences):\n",
    "        #sets specific indices of results[i] to 1s\n",
    "        results[i, sequence] = 1.\n",
    "    return results\n",
    "\n",
    "#Vectorised training and test data\n",
    "x_train = vectorize_sequences(train_data)\n",
    "x_test = vectorize_sequences(test_data)\n",
    "\n",
    "#Vectorising the labels\n",
    "y_train = np.asarray(train_labels).astype('float32')\n",
    "y_test = np.asarray(test_labels).astype('float32')\n",
    "\n",
    "#setting aside a validation set\n",
    "x_val = x_train[:10000]\n",
    "partial_x_train = x_train[10000:]\n",
    "y_val = y_train[:10000]\n",
    "partial_y_train = y_train[10000:]"
   ]
  },
  {
   "cell_type": "code",
   "execution_count": 6,
   "metadata": {},
   "outputs": [],
   "source": [
    "from tensorflow.keras import models\n",
    "from tensorflow.keras import layers\n",
    "from tensorflow.keras import regularizers\n",
    "import pandas as pd"
   ]
  },
  {
   "cell_type": "markdown",
   "metadata": {},
   "source": [
    "# Model 1 - A 16 - 16 - 1 Model\n",
    "\n",
    "Starting off with a simple model to see the results on the IMDB dataset. I will use advanced techniques such as embedding and conv1d to see how the results compare to this model.\n"
   ]
  },
  {
   "cell_type": "markdown",
   "metadata": {},
   "source": [
    "### Building the Network"
   ]
  },
  {
   "cell_type": "code",
   "execution_count": 7,
   "metadata": {
    "scrolled": false
   },
   "outputs": [
    {
     "name": "stdout",
     "output_type": "stream",
     "text": [
      "Epoch 1/20\n",
      "30/30 [==============================] - 1s 29ms/step - loss: 0.5284 - accuracy: 0.7900 - val_loss: 0.3988 - val_accuracy: 0.8717\n",
      "Epoch 2/20\n",
      "30/30 [==============================] - 0s 15ms/step - loss: 0.3188 - accuracy: 0.8993 - val_loss: 0.3153 - val_accuracy: 0.8824\n",
      "Epoch 3/20\n",
      "30/30 [==============================] - 0s 16ms/step - loss: 0.2350 - accuracy: 0.9245 - val_loss: 0.2894 - val_accuracy: 0.8871\n",
      "Epoch 4/20\n",
      "30/30 [==============================] - 0s 15ms/step - loss: 0.1828 - accuracy: 0.9425 - val_loss: 0.2894 - val_accuracy: 0.8843\n",
      "Epoch 5/20\n",
      "30/30 [==============================] - 0s 15ms/step - loss: 0.1492 - accuracy: 0.9520 - val_loss: 0.2793 - val_accuracy: 0.8869\n",
      "Epoch 6/20\n",
      "30/30 [==============================] - 0s 16ms/step - loss: 0.1195 - accuracy: 0.9625 - val_loss: 0.3092 - val_accuracy: 0.8789\n",
      "Epoch 7/20\n",
      "30/30 [==============================] - 0s 15ms/step - loss: 0.1001 - accuracy: 0.9704 - val_loss: 0.3041 - val_accuracy: 0.8844\n",
      "Epoch 8/20\n",
      "30/30 [==============================] - 0s 16ms/step - loss: 0.0797 - accuracy: 0.9779 - val_loss: 0.3372 - val_accuracy: 0.8772\n",
      "Epoch 9/20\n",
      "30/30 [==============================] - 0s 15ms/step - loss: 0.0670 - accuracy: 0.9821 - val_loss: 0.3589 - val_accuracy: 0.8766\n",
      "Epoch 10/20\n",
      "30/30 [==============================] - 0s 15ms/step - loss: 0.0527 - accuracy: 0.9871 - val_loss: 0.3880 - val_accuracy: 0.8734\n",
      "Epoch 11/20\n",
      "30/30 [==============================] - 0s 14ms/step - loss: 0.0426 - accuracy: 0.9899 - val_loss: 0.4007 - val_accuracy: 0.8766\n",
      "Epoch 12/20\n",
      "30/30 [==============================] - 0s 15ms/step - loss: 0.0344 - accuracy: 0.9929 - val_loss: 0.4325 - val_accuracy: 0.8739\n",
      "Epoch 13/20\n",
      "30/30 [==============================] - 0s 15ms/step - loss: 0.0255 - accuracy: 0.9956 - val_loss: 0.4911 - val_accuracy: 0.8665\n",
      "Epoch 14/20\n",
      "30/30 [==============================] - 0s 15ms/step - loss: 0.0208 - accuracy: 0.9965 - val_loss: 0.5011 - val_accuracy: 0.8720\n",
      "Epoch 15/20\n",
      "30/30 [==============================] - ETA: 0s - loss: 0.0149 - accuracy: 0.99 - 0s 15ms/step - loss: 0.0163 - accuracy: 0.9971 - val_loss: 0.5364 - val_accuracy: 0.8697\n",
      "Epoch 16/20\n",
      "30/30 [==============================] - 0s 15ms/step - loss: 0.0099 - accuracy: 0.9993 - val_loss: 0.5881 - val_accuracy: 0.8664\n",
      "Epoch 17/20\n",
      "30/30 [==============================] - 0s 16ms/step - loss: 0.0111 - accuracy: 0.9978 - val_loss: 0.6004 - val_accuracy: 0.8695\n",
      "Epoch 18/20\n",
      "30/30 [==============================] - 0s 16ms/step - loss: 0.0048 - accuracy: 0.9997 - val_loss: 0.6404 - val_accuracy: 0.8674\n",
      "Epoch 19/20\n",
      "30/30 [==============================] - 0s 15ms/step - loss: 0.0071 - accuracy: 0.9991 - val_loss: 0.6696 - val_accuracy: 0.8692\n",
      "Epoch 20/20\n",
      "30/30 [==============================] - 0s 14ms/step - loss: 0.0026 - accuracy: 0.9999 - val_loss: 0.7055 - val_accuracy: 0.8681\n"
     ]
    }
   ],
   "source": [
    "model = models.Sequential()\n",
    "model.add(layers.Dense(16, activation='relu', input_shape=(10000,)))\n",
    "model.add(layers.Dense(16, activation='relu'))\n",
    "model.add(layers.Dense(1, activation='sigmoid'))\n",
    "\n",
    "model.compile(optimizer='rmsprop',\n",
    "                loss='binary_crossentropy',\n",
    "                metrics=['accuracy'])\n",
    "history = model.fit(partial_x_train, \n",
    "                    partial_y_train,\n",
    "                    epochs = 20,\n",
    "                    batch_size = 512,\n",
    "                    validation_data = (x_val, y_val)) "
   ]
  },
  {
   "cell_type": "markdown",
   "metadata": {},
   "source": [
    "For a simple model like this, the estimated time taken for each epoch is less then 1 second for each one making it almost instant and extremely quick. "
   ]
  },
  {
   "cell_type": "markdown",
   "metadata": {},
   "source": [
    "### Main Results from this Model\n",
    "| Highest Validation Loss | Lowest Validation Loss | Best Validation Accuracy | Worst Validation Accuracy |\n",
    "|:-: |:-: |:-: |:-: |\n",
    "| 0.7055 (Epoch 20) | 0.2793 (Epoch 5) | 0.8871 (Epoch 3) | 0.8664 (Epoch 16)"
   ]
  },
  {
   "cell_type": "markdown",
   "metadata": {},
   "source": [
    "### Loss Graph"
   ]
  },
  {
   "cell_type": "code",
   "execution_count": 8,
   "metadata": {},
   "outputs": [
    {
     "data": {
      "image/png": "[encoded data removed]",
      "text/plain": [
       "<Figure size 432x288 with 1 Axes>"
      ]
     },
     "metadata": {
      "needs_background": "light"
     },
     "output_type": "display_data"
    }
   ],
   "source": [
    "    import matplotlib.pyplot as plt\n",
    "\n",
    "\n",
    "    history_dict = history.history\n",
    "    loss = history_dict['loss']\n",
    "    val_loss = history_dict['val_loss']\n",
    "\n",
    "    epochs = range(1, len(loss) + 1)\n",
    "    \n",
    "    plt.plot(epochs, loss, 'bo', label='Training loss')\n",
    "    plt.plot(epochs, val_loss, 'b', label='Validation loss')\n",
    "    # Code for the Labels\n",
    "    plt.title('Training and validation loss')\n",
    "    plt.xlabel('Epochs')\n",
    "    plt.ylabel('Loss')\n",
    "    plt.legend()\n",
    "    plt.show()"
   ]
  },
  {
   "cell_type": "markdown",
   "metadata": {},
   "source": [
    "We can see that the training loss is always decreasing, despite it being slowed down heavily after the fifth epoch, whereas the validation loss peaks at around the fourth epoch and then increases very quickly. Here you are seeing overfitting, and after the second epoch, the model is overoptimizing on the training data. The optimum epoch for this would be around 3, so we could stop training after three epochs to prevent overfitting, however I will be using other techniques on this dataset to create the best version possible.\n",
    "\n",
    "The **Optimum epoch** for the validation loss in this network is 5."
   ]
  },
  {
   "cell_type": "markdown",
   "metadata": {},
   "source": [
    "### Accuracy Graph"
   ]
  },
  {
   "cell_type": "code",
   "execution_count": 9,
   "metadata": {},
   "outputs": [
    {
     "data": {
      "image/png": "[encoded data removed]",
      "text/plain": [
       "<Figure size 432x288 with 1 Axes>"
      ]
     },
     "metadata": {
      "needs_background": "light"
     },
     "output_type": "display_data"
    }
   ],
   "source": [
    "plt.clf()\n",
    "acc = history_dict['accuracy']\n",
    "val_acc = history_dict['val_accuracy']\n",
    "plt.plot(epochs, acc, 'bo', label='Training acc')\n",
    "plt.plot(epochs, val_acc, 'b', label='Validation acc')\n",
    "plt.title('Training and validation accuracy')\n",
    "plt.xlabel('Epochs')\n",
    "plt.ylabel('Accuracy')\n",
    "plt.legend()\n",
    "plt.show()"
   ]
  },
  {
   "cell_type": "markdown",
   "metadata": {},
   "source": [
    "We can see that the training accuracy starts off by increasing rapidly with every epoch, and is then eventually slowed down at around epoch three. The validation accuracy is increasing and reaches its peak validation accuracy of 89% at the 4th epoch. The validation accuracy then starts to decrease, meaning this network is overfitting.\n",
    "\n",
    "The **Optimum Epoch** for the validation accuracy in this network is 3."
   ]
  },
  {
   "cell_type": "markdown",
   "metadata": {},
   "source": [
    "# Model 2 - Training with an Embedding layer\n",
    "\n",
    "The Embedding layer is a dictionary that maps integer indices to dense vectors. It takes integers as inputs and then looks up the integers in an internal dictionary, returning the associated vectors."
   ]
  },
  {
   "cell_type": "code",
   "execution_count": 10,
   "metadata": {},
   "outputs": [],
   "source": [
    "import matplotlib.pyplot as plt\n",
    "import tensorflow as tf\n",
    "from tensorflow.keras import models\n",
    "from tensorflow.keras import layers\n",
    "import pandas as pd"
   ]
  },
  {
   "cell_type": "markdown",
   "metadata": {},
   "source": [
    "### Loading the IMDB data for use with an Embedding layer"
   ]
  },
  {
   "cell_type": "code",
   "execution_count": 21,
   "metadata": {},
   "outputs": [],
   "source": [
    "from keras.datasets import imdb\n",
    "from keras import preprocessing\n",
    "from keras.layers import Embedding\n",
    "\n",
    "#number of words to consider as features\n",
    "max_features = 10000\n",
    "#cuts off the text after this number of words\n",
    "maxlen = 20\n",
    "\n",
    "#loads the data as lists of integers\n",
    "(x_train, y_train), (x_test, y_test) = imdb.load_data( num_words=max_features)\n",
    "\n",
    "#turns the lists of integers into a 2D integer tensor of shape (samples, maxlen)\n",
    "x_train = preprocessing.sequence.pad_sequences(x_train, maxlen=maxlen)\n",
    "x_test = preprocessing.sequence.pad_sequences(x_test, maxlen=maxlen)"
   ]
  },
  {
   "cell_type": "markdown",
   "metadata": {},
   "source": [
    "### Building the Model\n",
    "\n",
    "Code used from the DLWP book. \n",
    "\n",
    "Francois Chollet. 2017. Deep Learning with Python (1st. ed.). Manning Publications Co., USA."
   ]
  },
  {
   "cell_type": "code",
   "execution_count": 23,
   "metadata": {},
   "outputs": [
    {
     "name": "stdout",
     "output_type": "stream",
     "text": [
      "Model: \"sequential_4\"\n",
      "_________________________________________________________________\n",
      "Layer (type)                 Output Shape              Param #   \n",
      "=================================================================\n",
      "embedding_3 (Embedding)      (None, 20, 8)             80000     \n",
      "_________________________________________________________________\n",
      "flatten_3 (Flatten)          (None, 160)               0         \n",
      "_________________________________________________________________\n",
      "dense_6 (Dense)              (None, 1)                 161       \n",
      "=================================================================\n",
      "Total params: 80,161\n",
      "Trainable params: 80,161\n",
      "Non-trainable params: 0\n",
      "_________________________________________________________________\n",
      "Epoch 1/10\n",
      "625/625 [==============================] - 1s 994us/step - loss: 0.6618 - acc: 0.6370 - val_loss: 0.6006 - val_acc: 0.7082\n",
      "Epoch 2/10\n",
      "625/625 [==============================] - 1s 895us/step - loss: 0.5266 - acc: 0.7564 - val_loss: 0.5170 - val_acc: 0.7332\n",
      "Epoch 3/10\n",
      "625/625 [==============================] - 1s 929us/step - loss: 0.4552 - acc: 0.7900 - val_loss: 0.4960 - val_acc: 0.7450\n",
      "Epoch 4/10\n",
      "625/625 [==============================] - 0s 764us/step - loss: 0.4200 - acc: 0.8105 - val_loss: 0.4915 - val_acc: 0.7520\n",
      "Epoch 5/10\n",
      "625/625 [==============================] - 0s 749us/step - loss: 0.3967 - acc: 0.8226 - val_loss: 0.4921 - val_acc: 0.7544\n",
      "Epoch 6/10\n",
      "625/625 [==============================] - 0s 738us/step - loss: 0.3769 - acc: 0.8330 - val_loss: 0.4955 - val_acc: 0.7548\n",
      "Epoch 7/10\n",
      "625/625 [==============================] - 0s 774us/step - loss: 0.3601 - acc: 0.8439 - val_loss: 0.4998 - val_acc: 0.7568\n",
      "Epoch 8/10\n",
      "625/625 [==============================] - 1s 839us/step - loss: 0.3439 - acc: 0.8505 - val_loss: 0.5048 - val_acc: 0.7564\n",
      "Epoch 9/10\n",
      "625/625 [==============================] - 1s 806us/step - loss: 0.3276 - acc: 0.8624 - val_loss: 0.5113 - val_acc: 0.7552\n",
      "Epoch 10/10\n",
      "625/625 [==============================] - 0s 749us/step - loss: 0.3112 - acc: 0.8718 - val_loss: 0.5175 - val_acc: 0.7552\n"
     ]
    }
   ],
   "source": [
    "from keras.models import Sequential\n",
    "from keras.layers import Flatten, Dense\n",
    "\n",
    "model = Sequential()\n",
    "\n",
    "#specifies the maximum input length to the embedding layer so you can alter faltten the embedded inputs\n",
    "model.add(Embedding(10000, 8, input_length=maxlen))\n",
    "\n",
    "#flattens the 3D tensor of embeddings into a 2D tensor og shape\n",
    "model.add(Flatten())\n",
    "\n",
    "#adds the classifier on top\n",
    "model.add(Dense(1, activation='sigmoid'))\n",
    "model.compile(optimizer='rmsprop', loss='binary_crossentropy', metrics=['acc'])\n",
    "model.summary()\n",
    "\n",
    "history = model.fit(x_train, y_train,\n",
    "                    epochs=10,\n",
    "                    batch_size=32,\n",
    "                    validation_split=0.2)"
   ]
  },
  {
   "cell_type": "markdown",
   "metadata": {},
   "source": [
    "### Main Results from this Model\n",
    "| Highest Validation Loss | Lowest Validation Loss | Best Validation Accuracy | Worst Validation Accuracy |\n",
    "|:-: |:-: |:-: |:-: |\n",
    "| 0.6006 (Epoch 1) | 0.4915 (Epoch 4) | 0.7568 (Epoch 7) | 0.7082 (Epoch 1)"
   ]
  },
  {
   "cell_type": "markdown",
   "metadata": {},
   "source": [
    "### Loss Graph"
   ]
  },
  {
   "cell_type": "code",
   "execution_count": 17,
   "metadata": {},
   "outputs": [
    {
     "data": {
      "image/png": "[encoded data removed]",
      "text/plain": [
       "<Figure size 432x288 with 1 Axes>"
      ]
     },
     "metadata": {
      "needs_background": "light"
     },
     "output_type": "display_data"
    }
   ],
   "source": [
    "import matplotlib.pyplot as plt\n",
    "\n",
    "history_dict = history.history\n",
    "loss = history_dict['loss']\n",
    "val_loss = history_dict['val_loss']\n",
    "\n",
    "epochs = range(1, len(loss) + 1)\n",
    "    \n",
    "plt.plot(epochs, loss, 'bo', label='Training loss')\n",
    "plt.plot(epochs, val_loss, 'b', label='Validation loss')\n",
    "# Code for the Labels\n",
    "plt.title('Training and validation loss')\n",
    "plt.xlabel('Epochs')\n",
    "plt.ylabel('Loss')\n",
    "plt.legend()\n",
    "plt.show()"
   ]
  },
  {
   "cell_type": "markdown",
   "metadata": {},
   "source": [
    "After reducing the number of epochs to 8 you can see that the graph above shows the training loss starts off rapidly decreasing and then it slows down by the third epoch however it is still decreasing until the end. The validation loss starts off decreasing until epoch 5, inw hich it then starts to increase very slowly till the last epoch. This model is still overfitting.\n",
    "\n",
    "The **Optimum epoch** for the validation loss in this network is 4."
   ]
  },
  {
   "cell_type": "markdown",
   "metadata": {},
   "source": [
    "### Accuracy Graph"
   ]
  },
  {
   "cell_type": "code",
   "execution_count": 18,
   "metadata": {},
   "outputs": [
    {
     "data": {
      "image/png": "[encoded data removed]",
      "text/plain": [
       "<Figure size 432x288 with 1 Axes>"
      ]
     },
     "metadata": {
      "needs_background": "light"
     },
     "output_type": "display_data"
    }
   ],
   "source": [
    "plt.clf()\n",
    "\n",
    "history_dict = history.history\n",
    "acc = history_dict['acc']\n",
    "val_acc = history_dict['val_acc']\n",
    "    \n",
    "epochs = range(1, len(acc) + 1)\n",
    "\n",
    "plt.plot(epochs, acc, 'bo', label='Training acc')\n",
    "plt.plot(epochs, val_acc, 'b', label='Validation acc')\n",
    "# Code for the labels\n",
    "plt.title('Training and validation accuracy')\n",
    "plt.xlabel('Epochs')\n",
    "plt.ylabel('Accuracy')\n",
    "plt.legend()\n",
    "plt.show()"
   ]
  },
  {
   "cell_type": "markdown",
   "metadata": {},
   "source": [
    "The training accuracy increases with every epoch and reaches its peak at 87% at 10 epochs, however the validation accuracy reaches its peak of 76% at 7 epochs and then starts to slowly decrease again. Therefore this model is overfitting.\n",
    "\n",
    "The **Optimum epoch** for the validation accuracy in this network is 7."
   ]
  },
  {
   "cell_type": "markdown",
   "metadata": {},
   "source": [
    "# Model 3 - 1D Convnet\n",
    "\n",
    "We are not working with images therefore a 2D Convnet will not work, so we will be using a 1D Convnet which works well for processing temporal patterns, and can often perform faster then RNNs on some problems."
   ]
  },
  {
   "cell_type": "markdown",
   "metadata": {},
   "source": [
    "### Preparing the IMDB Dataset"
   ]
  },
  {
   "cell_type": "code",
   "execution_count": 40,
   "metadata": {},
   "outputs": [
    {
     "name": "stdout",
     "output_type": "stream",
     "text": [
      "Loading data...\n",
      "25000 train sequences\n",
      "25000 test sequences\n",
      "Pad sequences (samples x time)\n",
      "x_train shape: (25000, 500)\n",
      "x_test shape: (25000, 500)\n"
     ]
    }
   ],
   "source": [
    "from keras.datasets import imdb\n",
    "from keras.preprocessing import sequence\n",
    "# number of words to consider as features\n",
    "max_features = 10000\n",
    "# cut texts after this number of words (among top max_features most common words)\n",
    "max_len = 500\n",
    "\n",
    "print('Loading data...')\n",
    "(x_train, y_train), (x_test, y_test) = imdb.load_data(num_words=max_features)\n",
    "print(len(x_train), 'train sequences')\n",
    "print(len(x_test), 'test sequences')\n",
    "\n",
    "print('Pad sequences (samples x time)')\n",
    "x_train = sequence.pad_sequences(x_train, maxlen=max_len)\n",
    "x_test = sequence.pad_sequences(x_test, maxlen=max_len)\n",
    "print('x_train shape:', x_train.shape)\n",
    "print('x_test shape:', x_test.shape)"
   ]
  },
  {
   "cell_type": "markdown",
   "metadata": {},
   "source": [
    "### Building the Network\n",
    "\n",
    "Code used from DLWP book\n",
    "\n",
    "Francois Chollet. 2017. Deep Learning with Python (1st. ed.). Manning Publications Co., USA."
   ]
  },
  {
   "cell_type": "code",
   "execution_count": 48,
   "metadata": {},
   "outputs": [
    {
     "name": "stdout",
     "output_type": "stream",
     "text": [
      "Model: \"sequential_20\"\n",
      "_________________________________________________________________\n",
      "Layer (type)                 Output Shape              Param #   \n",
      "=================================================================\n",
      "embedding_18 (Embedding)     (None, 500, 128)          1280000   \n",
      "_________________________________________________________________\n",
      "conv1d_18 (Conv1D)           (None, 494, 32)           28704     \n",
      "_________________________________________________________________\n",
      "max_pooling1d_9 (MaxPooling1 (None, 98, 32)            0         \n",
      "_________________________________________________________________\n",
      "conv1d_19 (Conv1D)           (None, 92, 32)            7200      \n",
      "_________________________________________________________________\n",
      "global_max_pooling1d_7 (Glob (None, 32)                0         \n",
      "_________________________________________________________________\n",
      "dense_19 (Dense)             (None, 1)                 33        \n",
      "=================================================================\n",
      "Total params: 1,315,937\n",
      "Trainable params: 1,315,937\n",
      "Non-trainable params: 0\n",
      "_________________________________________________________________\n",
      "Epoch 1/20\n",
      "157/157 [==============================] - 27s 171ms/step - loss: 0.7271 - acc: 0.5234 - val_loss: 0.6869 - val_acc: 0.5582\n",
      "Epoch 2/20\n",
      "157/157 [==============================] - 30s 193ms/step - loss: 0.6681 - acc: 0.6600 - val_loss: 0.6698 - val_acc: 0.6444\n",
      "Epoch 3/20\n",
      "157/157 [==============================] - 31s 195ms/step - loss: 0.6321 - acc: 0.7462 - val_loss: 0.6310 - val_acc: 0.7258\n",
      "Epoch 4/20\n",
      "157/157 [==============================] - 31s 199ms/step - loss: 0.5598 - acc: 0.8009 - val_loss: 0.5271 - val_acc: 0.7932\n",
      "Epoch 5/20\n",
      "157/157 [==============================] - 28s 181ms/step - loss: 0.4376 - acc: 0.8372 - val_loss: 0.4378 - val_acc: 0.8308\n",
      "Epoch 6/20\n",
      "157/157 [==============================] - 29s 183ms/step - loss: 0.3583 - acc: 0.8684 - val_loss: 0.4018 - val_acc: 0.8534\n",
      "Epoch 7/20\n",
      "157/157 [==============================] - 31s 198ms/step - loss: 0.3075 - acc: 0.8902 - val_loss: 0.3892 - val_acc: 0.8620\n",
      "Epoch 8/20\n",
      "157/157 [==============================] - 31s 198ms/step - loss: 0.2707 - acc: 0.9040 - val_loss: 0.4164 - val_acc: 0.8624\n",
      "Epoch 9/20\n",
      "157/157 [==============================] - 30s 193ms/step - loss: 0.2429 - acc: 0.9135 - val_loss: 0.4256 - val_acc: 0.8714\n",
      "Epoch 10/20\n",
      "157/157 [==============================] - 31s 199ms/step - loss: 0.2217 - acc: 0.9232 - val_loss: 0.4626 - val_acc: 0.8724\n",
      "Epoch 11/20\n",
      "157/157 [==============================] - 31s 197ms/step - loss: 0.2001 - acc: 0.9319 - val_loss: 0.5163 - val_acc: 0.8712\n",
      "Epoch 12/20\n",
      "157/157 [==============================] - 31s 196ms/step - loss: 0.1806 - acc: 0.9390 - val_loss: 0.5282 - val_acc: 0.8724\n",
      "Epoch 13/20\n",
      "157/157 [==============================] - 31s 198ms/step - loss: 0.1657 - acc: 0.9460 - val_loss: 0.5366 - val_acc: 0.8744\n",
      "Epoch 14/20\n",
      "157/157 [==============================] - 31s 197ms/step - loss: 0.1504 - acc: 0.9524 - val_loss: 0.5576 - val_acc: 0.8746\n",
      "Epoch 15/20\n",
      "157/157 [==============================] - 31s 200ms/step - loss: 0.1368 - acc: 0.9585 - val_loss: 0.5931 - val_acc: 0.8744\n",
      "Epoch 16/20\n",
      "157/157 [==============================] - 31s 200ms/step - loss: 0.1252 - acc: 0.9646 - val_loss: 0.6158 - val_acc: 0.8732\n",
      "Epoch 17/20\n",
      "157/157 [==============================] - 31s 198ms/step - loss: 0.1140 - acc: 0.9689 - val_loss: 0.6296 - val_acc: 0.8730\n",
      "Epoch 18/20\n",
      "157/157 [==============================] - 31s 200ms/step - loss: 0.1044 - acc: 0.9747 - val_loss: 0.6757 - val_acc: 0.8710\n",
      "Epoch 19/20\n",
      "157/157 [==============================] - 31s 201ms/step - loss: 0.0947 - acc: 0.9786 - val_loss: 0.6742 - val_acc: 0.8712\n",
      "Epoch 20/20\n",
      "157/157 [==============================] - 32s 205ms/step - loss: 0.0862 - acc: 0.9825 - val_loss: 0.6979 - val_acc: 0.8706\n"
     ]
    }
   ],
   "source": [
    "from keras.models import Sequential\n",
    "from keras import layers\n",
    "from keras.optimizers import RMSprop\n",
    "\n",
    "model = Sequential()\n",
    "model.add(layers.Embedding(max_features, 128, input_length=max_len))\n",
    "model.add(layers.Conv1D(32, 7, activation='relu'))\n",
    "model.add(layers.MaxPooling1D(5))\n",
    "model.add(layers.Conv1D(32, 7, activation='relu'))\n",
    "model.add(layers.GlobalMaxPooling1D())\n",
    "model.add(layers.Dense(1))\n",
    "\n",
    "model.summary()\n",
    "\n",
    "model.compile(optimizer=RMSprop(lr=1e-4),\n",
    "                loss='binary_crossentropy',\n",
    "                metrics=['acc'])\n",
    "history = model.fit(x_train, y_train,\n",
    "                    epochs=20,\n",
    "                    batch_size=128,\n",
    "                    validation_split=0.2)"
   ]
  },
  {
   "cell_type": "markdown",
   "metadata": {},
   "source": [
    "We have seen an enormous increase in the time taken for each epoch, from the average being around 1 second in the previous embedding layer model, to now moving on in this 1D Convnet model, each epoch rougly takes 30 seconds, and for a model with 20 epochs, it takes approximately 10 minutes to finish running the network. "
   ]
  },
  {
   "cell_type": "markdown",
   "metadata": {},
   "source": [
    "### Main Results from this Model\n",
    "| Highest Validation Loss | Lowest Validation Loss | Best Validation Accuracy | Worst Validation Accuracy |\n",
    "|:-: |:-: |:-: |:-: |\n",
    "| 0.6979 (Epoch 20) | 0.3892 (Epoch 7) | 0.8746 (Epoch 14) | 0.5582 (Epoch 1)"
   ]
  },
  {
   "cell_type": "markdown",
   "metadata": {},
   "source": [
    "## Loss Graph"
   ]
  },
  {
   "cell_type": "code",
   "execution_count": 49,
   "metadata": {},
   "outputs": [
    {
     "data": {
      "image/png": "[encoded data removed]",
      "text/plain": [
       "<Figure size 432x288 with 1 Axes>"
      ]
     },
     "metadata": {
      "needs_background": "light"
     },
     "output_type": "display_data"
    }
   ],
   "source": [
    "import matplotlib.pyplot as plt\n",
    "\n",
    "history_dict = history.history\n",
    "loss = history_dict['loss']\n",
    "val_loss = history_dict['val_loss']\n",
    "\n",
    "epochs = range(1, len(loss) + 1)\n",
    "    \n",
    "plt.plot(epochs, loss, 'bo', label='Training loss')\n",
    "plt.plot(epochs, val_loss, 'b', label='Validation loss')\n",
    "# Code for the Labels\n",
    "plt.title('Training and validation loss')\n",
    "plt.xlabel('Epochs')\n",
    "plt.ylabel('Loss')\n",
    "plt.legend()\n",
    "plt.show()"
   ]
  },
  {
   "cell_type": "markdown",
   "metadata": {},
   "source": [
    "The training loss decreases rapidly until the 6th epoch, where it continues to decrease until the last epoch at a more slower rate. The validation loss matches the training loss until the 6th epoch, in which it then takes a sharp turn and starts to increase with every epoch after that, showing signs of heavy overfitting. The number of epochs is too high for this model therefore reducing it would show a better fit.\n",
    "\n",
    "The **Optimum epoch** for the validation loss in this network is 7."
   ]
  },
  {
   "cell_type": "markdown",
   "metadata": {},
   "source": [
    "## Accuracy Graph"
   ]
  },
  {
   "cell_type": "code",
   "execution_count": 50,
   "metadata": {},
   "outputs": [
    {
     "data": {
      "image/png": "[encoded data removed]",
      "text/plain": [
       "<Figure size 432x288 with 1 Axes>"
      ]
     },
     "metadata": {
      "needs_background": "light"
     },
     "output_type": "display_data"
    }
   ],
   "source": [
    "plt.clf()\n",
    "\n",
    "history_dict = history.history\n",
    "acc = history_dict['acc']\n",
    "val_acc = history_dict['val_acc']\n",
    "    \n",
    "epochs = range(1, len(acc) + 1)\n",
    "\n",
    "plt.plot(epochs, acc, 'bo', label='Training acc')\n",
    "plt.plot(epochs, val_acc, 'b', label='Validation acc')\n",
    "# Code for the labels\n",
    "plt.title('Training and validation accuracy')\n",
    "plt.xlabel('Epochs')\n",
    "plt.ylabel('Accuracy')\n",
    "plt.legend()\n",
    "plt.show()"
   ]
  },
  {
   "cell_type": "markdown",
   "metadata": {},
   "source": [
    "The training accuracy has improved reaching 98%, compared to the last model where it hit 87%, although this model has double the epochs, so a higher training accuracy is expected but 98% is alot higher in comparison. The validation accuracy matches the training accuracy up until the 6th epoch, in which it then falls off and remains at a near constant rate for every epoch after. This model is therefore overfitting.\n",
    "\n",
    "The **Optimum epoch** for the validation accuracy in this network is 14."
   ]
  },
  {
   "cell_type": "markdown",
   "metadata": {},
   "source": [
    "# Model 4 - Reducing number of Epochs from Model 3\n",
    "\n",
    "Here I will be reducing the number of epochs from 20 to 8 to prevent overfitting from the previous model."
   ]
  },
  {
   "cell_type": "markdown",
   "metadata": {},
   "source": [
    "### Building the Network"
   ]
  },
  {
   "cell_type": "code",
   "execution_count": 51,
   "metadata": {},
   "outputs": [
    {
     "name": "stdout",
     "output_type": "stream",
     "text": [
      "Model: \"sequential_21\"\n",
      "_________________________________________________________________\n",
      "Layer (type)                 Output Shape              Param #   \n",
      "=================================================================\n",
      "embedding_19 (Embedding)     (None, 500, 128)          1280000   \n",
      "_________________________________________________________________\n",
      "conv1d_20 (Conv1D)           (None, 494, 32)           28704     \n",
      "_________________________________________________________________\n",
      "max_pooling1d_10 (MaxPooling (None, 98, 32)            0         \n",
      "_________________________________________________________________\n",
      "conv1d_21 (Conv1D)           (None, 92, 32)            7200      \n",
      "_________________________________________________________________\n",
      "global_max_pooling1d_8 (Glob (None, 32)                0         \n",
      "_________________________________________________________________\n",
      "dense_20 (Dense)             (None, 1)                 33        \n",
      "=================================================================\n",
      "Total params: 1,315,937\n",
      "Trainable params: 1,315,937\n",
      "Non-trainable params: 0\n",
      "_________________________________________________________________\n",
      "Epoch 1/8\n",
      "157/157 [==============================] - 31s 199ms/step - loss: 0.7400 - acc: 0.5319 - val_loss: 0.6829 - val_acc: 0.5706\n",
      "Epoch 2/8\n",
      "157/157 [==============================] - 32s 202ms/step - loss: 0.6605 - acc: 0.6837 - val_loss: 0.6559 - val_acc: 0.6724\n",
      "Epoch 3/8\n",
      "157/157 [==============================] - 31s 199ms/step - loss: 0.6094 - acc: 0.7671 - val_loss: 0.5922 - val_acc: 0.7372\n",
      "Epoch 4/8\n",
      "157/157 [==============================] - 32s 203ms/step - loss: 0.5045 - acc: 0.8220 - val_loss: 0.4780 - val_acc: 0.7930\n",
      "Epoch 5/8\n",
      "157/157 [==============================] - 32s 201ms/step - loss: 0.3916 - acc: 0.8552 - val_loss: 0.4177 - val_acc: 0.8406\n",
      "Epoch 6/8\n",
      "157/157 [==============================] - 30s 194ms/step - loss: 0.3303 - acc: 0.8808 - val_loss: 0.3954 - val_acc: 0.8566\n",
      "Epoch 7/8\n",
      "157/157 [==============================] - 31s 201ms/step - loss: 0.2899 - acc: 0.8962 - val_loss: 0.4036 - val_acc: 0.8632\n",
      "Epoch 8/8\n",
      "157/157 [==============================] - 31s 200ms/step - loss: 0.2625 - acc: 0.9087 - val_loss: 0.4100 - val_acc: 0.8728\n"
     ]
    }
   ],
   "source": [
    "from keras.models import Sequential\n",
    "from keras import layers\n",
    "from keras.optimizers import RMSprop\n",
    "\n",
    "model = Sequential()\n",
    "model.add(layers.Embedding(max_features, 128, input_length=max_len))\n",
    "model.add(layers.Conv1D(32, 7, activation='relu'))\n",
    "model.add(layers.MaxPooling1D(5))\n",
    "model.add(layers.Conv1D(32, 7, activation='relu'))\n",
    "model.add(layers.GlobalMaxPooling1D())\n",
    "model.add(layers.Dense(1))\n",
    "\n",
    "model.summary()\n",
    "\n",
    "model.compile(optimizer=RMSprop(lr=1e-4),\n",
    "                loss='binary_crossentropy',\n",
    "                metrics=['acc'])\n",
    "history = model.fit(x_train, y_train,\n",
    "                    epochs=8,\n",
    "                    batch_size=128,\n",
    "                    validation_split=0.2)"
   ]
  },
  {
   "cell_type": "markdown",
   "metadata": {},
   "source": [
    "### Main Results from this Model\n",
    "| Highest Validation Loss | Lowest Validation Loss | Best Validation Accuracy | Worst Validation Accuracy |\n",
    "|:-: |:-: |:-: |:-: |\n",
    "| 0.6829 (Epoch 1) | 0.3954 (Epoch 6) | 0.8728 (Epoch 8) | 0.5706 (Epoch 1)"
   ]
  },
  {
   "cell_type": "markdown",
   "metadata": {},
   "source": [
    "### Loss Graph"
   ]
  },
  {
   "cell_type": "code",
   "execution_count": 52,
   "metadata": {},
   "outputs": [
    {
     "data": {
      "image/png": "[encoded data removed]",
      "text/plain": [
       "<Figure size 432x288 with 1 Axes>"
      ]
     },
     "metadata": {
      "needs_background": "light"
     },
     "output_type": "display_data"
    }
   ],
   "source": [
    "history_dict = history.history\n",
    "loss = history_dict['loss']\n",
    "val_loss = history_dict['val_loss']\n",
    "\n",
    "epochs = range(1, len(loss) + 1)\n",
    "    \n",
    "plt.plot(epochs, loss, 'bo', label='Training loss')\n",
    "plt.plot(epochs, val_loss, 'b', label='Validation loss')\n",
    "# Code for the Labels\n",
    "plt.title('Training and validation loss')\n",
    "plt.xlabel('Epochs')\n",
    "plt.ylabel('Loss')\n",
    "plt.legend()\n",
    "plt.show()"
   ]
  },
  {
   "cell_type": "markdown",
   "metadata": {},
   "source": [
    "The reduced epoch from the previous graph has greatly improved this model, the training loss and validation loss have a better fit now. The training loss decreases with every epoch, similarly with the validation loss where it also decreases until the 6th epoch in which it then begins to increase. This graph has a good fit until the 6th epoch, where it starts to overfit. This graph is underfitting in the beginning and starts to overfit later on.\n",
    "\n",
    "The **Optimum epoch** for the validation loss in this network is 6."
   ]
  },
  {
   "cell_type": "markdown",
   "metadata": {},
   "source": [
    "### Accuracy Graph"
   ]
  },
  {
   "cell_type": "code",
   "execution_count": 53,
   "metadata": {},
   "outputs": [
    {
     "data": {
      "image/png": "[encoded data removed]",
      "text/plain": [
       "<Figure size 432x288 with 1 Axes>"
      ]
     },
     "metadata": {
      "needs_background": "light"
     },
     "output_type": "display_data"
    }
   ],
   "source": [
    "plt.clf()\n",
    "\n",
    "history_dict = history.history\n",
    "acc = history_dict['acc']\n",
    "val_acc = history_dict['val_acc']\n",
    "    \n",
    "epochs = range(1, len(acc) + 1)\n",
    "\n",
    "plt.plot(epochs, acc, 'bo', label='Training acc')\n",
    "plt.plot(epochs, val_acc, 'b', label='Validation acc')\n",
    "# Code for the labels\n",
    "plt.title('Training and validation accuracy')\n",
    "plt.xlabel('Epochs')\n",
    "plt.ylabel('Accuracy')\n",
    "plt.legend()\n",
    "plt.show()"
   ]
  },
  {
   "cell_type": "markdown",
   "metadata": {},
   "source": [
    "The accuracy graph seems to have a pretty good fit, some overfitting is present however it is the best graph produced. The training accuracy increases throughout and reaches 91%. The validation accuracy pretty much matches the training accuracy up until the 7th epoch, where it begins to separate itself more and starts to slow down. This graph is slightly overfitting.\n",
    "\n",
    "The **Optimum epoch** for the validation accuracy in this network is 8."
   ]
  },
  {
   "cell_type": "markdown",
   "metadata": {},
   "source": [
    "# Model 5 - Adding GRU Layer\n",
    "\n",
    "Experimenting further from the previous model by adding a GRU layer, which can be used to prevent overfitting."
   ]
  },
  {
   "cell_type": "markdown",
   "metadata": {},
   "source": [
    "### Building the Network"
   ]
  },
  {
   "cell_type": "code",
   "execution_count": 70,
   "metadata": {},
   "outputs": [
    {
     "name": "stdout",
     "output_type": "stream",
     "text": [
      "Model: \"sequential_29\"\n",
      "_________________________________________________________________\n",
      "Layer (type)                 Output Shape              Param #   \n",
      "=================================================================\n",
      "embedding_27 (Embedding)     (None, 500, 128)          1280000   \n",
      "_________________________________________________________________\n",
      "conv1d_24 (Conv1D)           (None, 494, 32)           28704     \n",
      "_________________________________________________________________\n",
      "max_pooling1d_12 (MaxPooling (None, 98, 32)            0         \n",
      "_________________________________________________________________\n",
      "conv1d_25 (Conv1D)           (None, 92, 32)            7200      \n",
      "_________________________________________________________________\n",
      "gru_6 (GRU)                  (None, 32)                6336      \n",
      "_________________________________________________________________\n",
      "dense_26 (Dense)             (None, 1)                 33        \n",
      "=================================================================\n",
      "Total params: 1,322,273\n",
      "Trainable params: 1,322,273\n",
      "Non-trainable params: 0\n",
      "_________________________________________________________________\n",
      "Epoch 1/8\n",
      "157/157 [==============================] - 44s 279ms/step - loss: 0.7563 - acc: 0.5307 - val_loss: 0.6758 - val_acc: 0.6232\n",
      "Epoch 2/8\n",
      "157/157 [==============================] - 43s 277ms/step - loss: 0.6503 - acc: 0.6520 - val_loss: 0.6228 - val_acc: 0.6860\n",
      "Epoch 3/8\n",
      "157/157 [==============================] - 42s 265ms/step - loss: 0.5511 - acc: 0.7416 - val_loss: 0.5345 - val_acc: 0.7410\n",
      "Epoch 4/8\n",
      "157/157 [==============================] - 41s 260ms/step - loss: 0.4615 - acc: 0.7990 - val_loss: 0.5168 - val_acc: 0.7702\n",
      "Epoch 5/8\n",
      "157/157 [==============================] - 42s 267ms/step - loss: 0.4202 - acc: 0.8306 - val_loss: 0.5123 - val_acc: 0.7846\n",
      "Epoch 6/8\n",
      "157/157 [==============================] - 42s 270ms/step - loss: 0.3862 - acc: 0.8545 - val_loss: 0.5912 - val_acc: 0.7942\n",
      "Epoch 7/8\n",
      "157/157 [==============================] - 42s 269ms/step - loss: 0.3392 - acc: 0.8753 - val_loss: 0.5550 - val_acc: 0.8018\n",
      "Epoch 8/8\n",
      "157/157 [==============================] - 42s 269ms/step - loss: 0.3125 - acc: 0.8890 - val_loss: 0.5727 - val_acc: 0.8080\n"
     ]
    }
   ],
   "source": [
    "from keras.models import Sequential\n",
    "from keras import layers\n",
    "from keras.optimizers import RMSprop\n",
    "\n",
    "model = Sequential()\n",
    "model.add(layers.Embedding(max_features, 128, input_length=max_len))\n",
    "model.add(layers.Conv1D(32, 7, activation='relu'))\n",
    "model.add(layers.MaxPooling1D(5))\n",
    "model.add(layers.Conv1D(32, 7, activation='relu'))\n",
    "model.add(layers.GRU(32, dropout=0.1, recurrent_dropout=0.5))\n",
    "model.add(layers.Dense(1))\n",
    "\n",
    "model.summary()\n",
    "\n",
    "model.compile(optimizer=RMSprop(lr=1e-4),\n",
    "                loss='binary_crossentropy',\n",
    "                metrics=['acc'])\n",
    "history = model.fit(x_train, y_train,\n",
    "                    epochs=8,\n",
    "                    batch_size=128,\n",
    "                    validation_split=0.2)"
   ]
  },
  {
   "cell_type": "markdown",
   "metadata": {},
   "source": [
    "Adding a Gated recurrent unit layer to the previous model increased the time taken for each epoch to rougly 42 seconds, an increase of rougly 10 seconds."
   ]
  },
  {
   "cell_type": "markdown",
   "metadata": {},
   "source": [
    "### Main Results from this Model\n",
    "| Highest Validation Loss | Lowest Validation Loss | Best Validation Accuracy | Worst Validation Accuracy |\n",
    "|:-: |:-: |:-: |:-: |\n",
    "| 0.6758 (Epoch 1) | 0.5123 (Epoch 5) | 0.8080 (Epoch 8) | 0.6232 (Epoch 1)"
   ]
  },
  {
   "cell_type": "markdown",
   "metadata": {},
   "source": [
    "### Loss Graph"
   ]
  },
  {
   "cell_type": "code",
   "execution_count": 71,
   "metadata": {},
   "outputs": [
    {
     "data": {
      "image/png": "[encoded data removed]",
      "text/plain": [
       "<Figure size 432x288 with 1 Axes>"
      ]
     },
     "metadata": {
      "needs_background": "light"
     },
     "output_type": "display_data"
    }
   ],
   "source": [
    "history_dict = history.history\n",
    "loss = history_dict['loss']\n",
    "val_loss = history_dict['val_loss']\n",
    "\n",
    "epochs = range(1, len(loss) + 1)\n",
    "    \n",
    "plt.plot(epochs, loss, 'bo', label='Training loss')\n",
    "plt.plot(epochs, val_loss, 'b', label='Validation loss')\n",
    "# Code for the Labels\n",
    "plt.title('Training and validation loss')\n",
    "plt.xlabel('Epochs')\n",
    "plt.ylabel('Loss')\n",
    "plt.legend()\n",
    "plt.show()"
   ]
  },
  {
   "cell_type": "markdown",
   "metadata": {},
   "source": [
    "The training loss decreases with every epoch whereas the validation loss decreases slowly and then begins to increase and fluctuate alot more, showing very unstable results. This graph is underfitting up until the 3rd epoch, where overfitting is then present. \n",
    "\n",
    "The **Optimum epoch** for the validation loss in this network is 5."
   ]
  },
  {
   "cell_type": "markdown",
   "metadata": {},
   "source": [
    "### Accuracy Graph"
   ]
  },
  {
   "cell_type": "code",
   "execution_count": 72,
   "metadata": {},
   "outputs": [
    {
     "data": {
      "image/png": "[encoded data removed]",
      "text/plain": [
       "<Figure size 432x288 with 1 Axes>"
      ]
     },
     "metadata": {
      "needs_background": "light"
     },
     "output_type": "display_data"
    }
   ],
   "source": [
    "plt.clf()\n",
    "\n",
    "history_dict = history.history\n",
    "acc = history_dict['acc']\n",
    "val_acc = history_dict['val_acc']\n",
    "    \n",
    "epochs = range(1, len(acc) + 1)\n",
    "\n",
    "plt.plot(epochs, acc, 'bo', label='Training acc')\n",
    "plt.plot(epochs, val_acc, 'b', label='Validation acc')\n",
    "# Code for the labels\n",
    "plt.title('Training and validation accuracy')\n",
    "plt.xlabel('Epochs')\n",
    "plt.ylabel('Accuracy')\n",
    "plt.legend()\n",
    "plt.show()"
   ]
  },
  {
   "cell_type": "markdown",
   "metadata": {},
   "source": [
    "The training accuracy increases gradually with every epoch, reaching 88% at epoch 8, a slight decrease from the previous model. The validation accuracy follows a similar trend as the training accuracy however at a much slower rate. This model is underfitting until the 3rd epoch, and then starts to overfit for the following epochs. \n",
    "\n",
    "The **Optimum epoch** for the validation accuracy in this network is 8."
   ]
  },
  {
   "cell_type": "markdown",
   "metadata": {},
   "source": [
    "# Model 6 - LSTM\n",
    "\n",
    "LSTM essentially saves information for later, preventing older signals from gradually vanishing during processing."
   ]
  },
  {
   "cell_type": "markdown",
   "metadata": {},
   "source": [
    "### Preparing the IMDB Dataset"
   ]
  },
  {
   "cell_type": "code",
   "execution_count": 58,
   "metadata": {},
   "outputs": [
    {
     "name": "stdout",
     "output_type": "stream",
     "text": [
      "Loading data...\n",
      "25000 train sequences\n",
      "25000 test sequences\n",
      "Pad sequences (samples x time)\n",
      "input_train shape: (25000, 500)\n",
      "input_test shape: (25000, 500)\n"
     ]
    }
   ],
   "source": [
    "from tensorflow.keras.datasets import imdb\n",
    "from tensorflow.keras.preprocessing import sequence\n",
    "from tensorflow.keras.models import Sequential\n",
    "from tensorflow.keras.layers import Embedding, SimpleRNN\n",
    "\n",
    "# number of words to consider as features\n",
    "max_features = 10000  \n",
    "# cut texts after this number of words (among top max_features most common words)\n",
    "maxlen = 500 \n",
    "batch_size = 32\n",
    "\n",
    "print('Loading data...')\n",
    "(input_train, y_train), (input_test, y_test) = imdb.load_data(num_words=max_features)\n",
    "print(len(input_train), 'train sequences')\n",
    "print(len(input_test), 'test sequences')\n",
    "\n",
    "print('Pad sequences (samples x time)')\n",
    "input_train = sequence.pad_sequences(input_train, maxlen=maxlen)\n",
    "input_test = sequence.pad_sequences(input_test, maxlen=maxlen)\n",
    "print('input_train shape:', input_train.shape)\n",
    "print('input_test shape:', input_test.shape)"
   ]
  },
  {
   "cell_type": "markdown",
   "metadata": {},
   "source": [
    "### Building the Network\n",
    "\n",
    "Model used from DLWP Book\n",
    "\n",
    "Francois Chollet. 2017. Deep Learning with Python (1st. ed.). Manning Publications Co., USA."
   ]
  },
  {
   "cell_type": "code",
   "execution_count": 59,
   "metadata": {},
   "outputs": [
    {
     "name": "stdout",
     "output_type": "stream",
     "text": [
      "Epoch 1/10\n",
      "157/157 [==============================] - 40s 254ms/step - loss: 0.5071 - acc: 0.7633 - val_loss: 0.3270 - val_acc: 0.8698\n",
      "Epoch 2/10\n",
      "157/157 [==============================] - 40s 252ms/step - loss: 0.2911 - acc: 0.8857 - val_loss: 0.3959 - val_acc: 0.8464\n",
      "Epoch 3/10\n",
      "157/157 [==============================] - 40s 254ms/step - loss: 0.2283 - acc: 0.9149 - val_loss: 0.2767 - val_acc: 0.8914\n",
      "Epoch 4/10\n",
      "157/157 [==============================] - 40s 255ms/step - loss: 0.1980 - acc: 0.9258 - val_loss: 0.3073 - val_acc: 0.8880\n",
      "Epoch 5/10\n",
      "157/157 [==============================] - 40s 255ms/step - loss: 0.1752 - acc: 0.9365 - val_loss: 0.3128 - val_acc: 0.8872\n",
      "Epoch 6/10\n",
      "157/157 [==============================] - 41s 260ms/step - loss: 0.1555 - acc: 0.9449 - val_loss: 0.3065 - val_acc: 0.8824\n",
      "Epoch 7/10\n",
      "157/157 [==============================] - 39s 251ms/step - loss: 0.1425 - acc: 0.9500 - val_loss: 0.4107 - val_acc: 0.8642\n",
      "Epoch 8/10\n",
      "157/157 [==============================] - 40s 256ms/step - loss: 0.1344 - acc: 0.9532 - val_loss: 0.3879 - val_acc: 0.8790\n",
      "Epoch 9/10\n",
      "157/157 [==============================] - 43s 274ms/step - loss: 0.1249 - acc: 0.9563 - val_loss: 0.4735 - val_acc: 0.8690\n",
      "Epoch 10/10\n",
      "157/157 [==============================] - 43s 276ms/step - loss: 0.1132 - acc: 0.9621 - val_loss: 0.3988 - val_acc: 0.8714\n"
     ]
    }
   ],
   "source": [
    "from keras.layers import LSTM\n",
    "model = Sequential()\n",
    "model.add(Embedding(max_features, 32))\n",
    "model.add(LSTM(32))\n",
    "model.add(Dense(1, activation='sigmoid'))\n",
    "model.compile(optimizer='rmsprop',\n",
    "              loss='binary_crossentropy',\n",
    "              metrics=['acc'])\n",
    "history = model.fit(input_train, y_train,\n",
    "                    epochs=10,\n",
    "                    batch_size=128,\n",
    "                    validation_split=0.2)"
   ]
  },
  {
   "cell_type": "markdown",
   "metadata": {},
   "source": [
    "The time taken in this LSTM model is very similar to the previous 1D Convnet model with the GRU layer, taking approximately 40 seconds for each epoch to run. "
   ]
  },
  {
   "cell_type": "markdown",
   "metadata": {},
   "source": [
    "### Main Results from this Model\n",
    "| Highest Validation Loss | Lowest Validation Loss | Best Validation Accuracy | Worst Validation Accuracy |\n",
    "|:-: |:-: |:-: |:-: |\n",
    "| 0.4735 (Epoch 9) | 0.2767 (Epoch 3) | 0.8914 (Epoch 3) | 0.8464 (Epoch 2)"
   ]
  },
  {
   "cell_type": "markdown",
   "metadata": {},
   "source": [
    "### Loss Graph"
   ]
  },
  {
   "cell_type": "code",
   "execution_count": 60,
   "metadata": {},
   "outputs": [
    {
     "data": {
      "image/png": "[encoded data removed]",
      "text/plain": [
       "<Figure size 432x288 with 1 Axes>"
      ]
     },
     "metadata": {
      "needs_background": "light"
     },
     "output_type": "display_data"
    }
   ],
   "source": [
    "history_dict = history.history\n",
    "loss = history_dict['loss']\n",
    "val_loss = history_dict['val_loss']\n",
    "\n",
    "epochs = range(1, len(loss) + 1)\n",
    "    \n",
    "plt.plot(epochs, loss, 'bo', label='Training loss')\n",
    "plt.plot(epochs, val_loss, 'b', label='Validation loss')\n",
    "# Code for the Labels\n",
    "plt.title('Training and validation loss')\n",
    "plt.xlabel('Epochs')\n",
    "plt.ylabel('Loss')\n",
    "plt.legend()\n",
    "plt.show()"
   ]
  },
  {
   "cell_type": "markdown",
   "metadata": {},
   "source": [
    "The training loss decreases with every epoch, whereas the validation loss fluctuates throughout the model, where it increases and decreases with every epoch, making it very unstable, However the lowest validation loss is 0.2767 which is a big difference from the last model where the lowest validation loss was 0.5123, so it is almost half of what it was in the previous model. Overfitting is present in this graph.\n",
    "\n",
    "The **Optimum epoch** for the validation loss in this network is 3."
   ]
  },
  {
   "cell_type": "markdown",
   "metadata": {},
   "source": [
    "### Accuracy Graph"
   ]
  },
  {
   "cell_type": "code",
   "execution_count": 61,
   "metadata": {},
   "outputs": [
    {
     "data": {
      "image/png": "[encoded data removed]",
      "text/plain": [
       "<Figure size 432x288 with 1 Axes>"
      ]
     },
     "metadata": {
      "needs_background": "light"
     },
     "output_type": "display_data"
    }
   ],
   "source": [
    "plt.clf()\n",
    "\n",
    "history_dict = history.history\n",
    "acc = history_dict['acc']\n",
    "val_acc = history_dict['val_acc']\n",
    "    \n",
    "epochs = range(1, len(acc) + 1)\n",
    "\n",
    "plt.plot(epochs, acc, 'bo', label='Training acc')\n",
    "plt.plot(epochs, val_acc, 'b', label='Validation acc')\n",
    "# Code for the labels\n",
    "plt.title('Training and validation accuracy')\n",
    "plt.xlabel('Epochs')\n",
    "plt.ylabel('Accuracy')\n",
    "plt.legend()\n",
    "plt.show()"
   ]
  },
  {
   "cell_type": "markdown",
   "metadata": {},
   "source": [
    "The training accuracy jumps massively to epoch 2, where it then increases gradually until the 8th epoch reaching 96%, an increase of 8% from the previous model. The validation accuracy similarly to the loss graph, increases and decreases with every epoch but not as severe in this case. Underfitting is present until the 2nd epoch, where then overfitting is present throughout.\n",
    "\n",
    "The **Optimum epoch** for the validation accuracy in this network is 3."
   ]
  },
  {
   "cell_type": "markdown",
   "metadata": {},
   "source": [
    "# Model 7 - Adding dropout to LSTM\n",
    "\n",
    "Adding a dropout percentage of 0.5 to the previous model to see how results are affected and to see if overfitting is reduced."
   ]
  },
  {
   "cell_type": "markdown",
   "metadata": {},
   "source": [
    "### Building the Network"
   ]
  },
  {
   "cell_type": "code",
   "execution_count": 62,
   "metadata": {},
   "outputs": [
    {
     "name": "stdout",
     "output_type": "stream",
     "text": [
      "Epoch 1/10\n",
      "157/157 [==============================] - 42s 268ms/step - loss: 0.5707 - acc: 0.7310 - val_loss: 0.3608 - val_acc: 0.8556\n",
      "Epoch 2/10\n",
      "157/157 [==============================] - 42s 267ms/step - loss: 0.3434 - acc: 0.8708 - val_loss: 0.4178 - val_acc: 0.8378\n",
      "Epoch 3/10\n",
      "157/157 [==============================] - 44s 283ms/step - loss: 0.2595 - acc: 0.9050 - val_loss: 0.2748 - val_acc: 0.8858\n",
      "Epoch 4/10\n",
      "157/157 [==============================] - 44s 283ms/step - loss: 0.2169 - acc: 0.9211 - val_loss: 0.3329 - val_acc: 0.8620\n",
      "Epoch 5/10\n",
      "157/157 [==============================] - 42s 267ms/step - loss: 0.1885 - acc: 0.9336 - val_loss: 0.3262 - val_acc: 0.8576\n",
      "Epoch 6/10\n",
      "157/157 [==============================] - 45s 284ms/step - loss: 0.1669 - acc: 0.9421 - val_loss: 0.3792 - val_acc: 0.8604\n",
      "Epoch 7/10\n",
      "157/157 [==============================] - 45s 285ms/step - loss: 0.1550 - acc: 0.9466 - val_loss: 0.3040 - val_acc: 0.8866\n",
      "Epoch 8/10\n",
      "157/157 [==============================] - 45s 284ms/step - loss: 0.1417 - acc: 0.9539 - val_loss: 0.3091 - val_acc: 0.8744\n",
      "Epoch 9/10\n",
      "157/157 [==============================] - 45s 287ms/step - loss: 0.1329 - acc: 0.9559 - val_loss: 0.3207 - val_acc: 0.8792\n",
      "Epoch 10/10\n",
      "157/157 [==============================] - 42s 265ms/step - loss: 0.1233 - acc: 0.9578 - val_loss: 0.3882 - val_acc: 0.8726\n"
     ]
    }
   ],
   "source": [
    "from keras.layers import LSTM\n",
    "model = Sequential()\n",
    "model.add(Embedding(max_features, 32))\n",
    "model.add(LSTM(32))\n",
    "model.add(layers.Dropout(0.5))\n",
    "model.add(Dense(1, activation='sigmoid'))\n",
    "model.compile(optimizer='rmsprop',\n",
    "              loss='binary_crossentropy',\n",
    "              metrics=['acc'])\n",
    "history = model.fit(input_train, y_train,\n",
    "                    epochs=10,\n",
    "                    batch_size=128,\n",
    "                    validation_split=0.2)"
   ]
  },
  {
   "cell_type": "markdown",
   "metadata": {},
   "source": [
    "Adding dropout to the LSTM Model increased the time taken for each epoch by a few seconds."
   ]
  },
  {
   "cell_type": "markdown",
   "metadata": {},
   "source": [
    "### Main Results from this Model\n",
    "| Highest Validation Loss | Lowest Validation Loss | Best Validation Accuracy | Worst Validation Accuracy |\n",
    "|:-: |:-: |:-: |:-: |\n",
    "| 0.4178 (Epoch 2) | 0.2748 (Epoch 3) | 0.8866 (Epoch 7) | 0.8378 (Epoch 2)"
   ]
  },
  {
   "cell_type": "markdown",
   "metadata": {},
   "source": [
    "### Loss Graph"
   ]
  },
  {
   "cell_type": "code",
   "execution_count": 63,
   "metadata": {},
   "outputs": [
    {
     "data": {
      "image/png": "[encoded data removed]",
      "text/plain": [
       "<Figure size 432x288 with 1 Axes>"
      ]
     },
     "metadata": {
      "needs_background": "light"
     },
     "output_type": "display_data"
    }
   ],
   "source": [
    "history_dict = history.history\n",
    "loss = history_dict['loss']\n",
    "val_loss = history_dict['val_loss']\n",
    "\n",
    "epochs = range(1, len(loss) + 1)\n",
    "    \n",
    "plt.plot(epochs, loss, 'bo', label='Training loss')\n",
    "plt.plot(epochs, val_loss, 'b', label='Validation loss')\n",
    "# Code for the Labels\n",
    "plt.title('Training and validation loss')\n",
    "plt.xlabel('Epochs')\n",
    "plt.ylabel('Loss')\n",
    "plt.legend()\n",
    "plt.show()"
   ]
  },
  {
   "cell_type": "markdown",
   "metadata": {},
   "source": [
    "Adding dropout to this model, has not really changed performance with the graph. The training loss decreases with every epoch, and the validation loss fluctuates with every epoch, increasing and decreasing throughout. This model is overfitting.\n",
    "\n",
    "The **Optimum epoch** for the validation loss in this network is 3."
   ]
  },
  {
   "cell_type": "markdown",
   "metadata": {},
   "source": [
    "### Accuracy Graph"
   ]
  },
  {
   "cell_type": "code",
   "execution_count": 64,
   "metadata": {
    "scrolled": true
   },
   "outputs": [
    {
     "data": {
      "image/png": "[encoded data removed]",
      "text/plain": [
       "<Figure size 432x288 with 1 Axes>"
      ]
     },
     "metadata": {
      "needs_background": "light"
     },
     "output_type": "display_data"
    }
   ],
   "source": [
    "plt.clf()\n",
    "\n",
    "history_dict = history.history\n",
    "acc = history_dict['acc']\n",
    "val_acc = history_dict['val_acc']\n",
    "    \n",
    "epochs = range(1, len(acc) + 1)\n",
    "\n",
    "plt.plot(epochs, acc, 'bo', label='Training acc')\n",
    "plt.plot(epochs, val_acc, 'b', label='Validation acc')\n",
    "# Code for the labels\n",
    "plt.title('Training and validation accuracy')\n",
    "plt.xlabel('Epochs')\n",
    "plt.ylabel('Accuracy')\n",
    "plt.legend()\n",
    "plt.show()"
   ]
  },
  {
   "cell_type": "markdown",
   "metadata": {},
   "source": [
    "The training accuracy increases with every epoch, with the most significant increase happening from epoch 1 to epoch 2, this is then slowed down heavily however continues to increase until the last epoch. The validation accuracy fluctuates throughout the network. Some underfitting is involved in the beginning when the validation accuracy is greater than the training accuracy, however this is for a short time as it begins to overfit from epoch 2 and onwards.\n",
    "\n",
    "The **Optimum epoch** for the validation accuracy in this network is 7."
   ]
  },
  {
   "cell_type": "markdown",
   "metadata": {},
   "source": [
    "# Summary of the Final Models"
   ]
  },
  {
   "cell_type": "markdown",
   "metadata": {},
   "source": [
    "| Model Number | Layers | Best Validation Acc | Optimum Epoch Accuracy | Lowest Validation Loss | Optimum Epoch Loss\n",
    "|:-:|:-: |:-: |:-: |:-: |:-: \n",
    "| 1 | 16-16-1 | 0.8871 | 3 | 0.2793 | 5 \n",
    "| 2 | Embedding layer | 0.7568 | 7 | 0.4915 | 4 \n",
    "| 3 | 1D Convnet (20 Epochs) | 0.8745 | 14 | 0.3892 | 7 \n",
    "| 4 | 1D Convnet (8 Epochs) | 0.8728 | 8 | 0.3954 | 6 \n",
    "| 5 | 1D Convnet with GRU Layer | 0.8080 | 8 | 0.5123 | 5 \n",
    "| 6 | LSTM  | 0.8914 | 3 | 0.2767 | 3 \n",
    "| 7 | LSTM with dropout | 0.8866 | 7 | 0.2748 | 3 "
   ]
  },
  {
   "cell_type": "markdown",
   "metadata": {},
   "source": [
    "# Conclusion"
   ]
  },
  {
   "cell_type": "markdown",
   "metadata": {},
   "source": [
    "I started off by creating a simple 16-16-1 model and running it to see the results that I would get on the IMDB dataset. I felt as though this was a good way to start off and see the results I get and then comparing them with models that use more advanced techniques from the second half of the DLWP book. \n",
    "\n",
    "From the table above you can see that I achieved a validation accuracy of around 89% with the lowest validation loss being at around 28% for the first model. These results were pretty good for the first model and better then I expected as a baseline, as it turns out these results were one of the best out of all the models created. I moved on to adding an Embedded layer model, and achieved horrible results, the peak validation accuracy reached, 76% and the peak lowest validation loss was almost 50%, so I found this model for this dataset not ideal. I could have done more experiments on this model, maybe adding more layers and tuning some of the numbers however I felt as though whatever I would do to the model, it would not come close to the numbers Model 1 produced, so I moved onto 1D Convnet. For my first 1D Convnet model with 20 Epochs, the validation accuracy peaked at 87%, and the validation loss was almost 39%, a lot better results then the previous model however still worse then Model 1. The graph produced for this model started with a pretty good fit, so I decided to create a new model with the same inputs as Model 3, but this time reducing the amount of Epochs to 8. This model produced similar validity and loss results because they were the same models, however the graph produced was the best out of all the models, where the training and validation dataset numbers were very similar, and only straying apart towards the later Epochs.\n",
    "\n",
    "After experimenting with the 1D Convnet models I decided to create a LSTM model, and it produced the highest peak validation accuracy at 89%, as well as the lowest validation loss at 28% which were the best peak results out of all the models created, topping the 16-16-1 model too.  Despite these results this model displayed very heavy overfitting, so I decided to create an additional LSTM model which included a dropout layer at a percentage of 0.5, and this slightly reduced the overfitting and the unstableness present in the graphs for the previous model.\n",
    "\n",
    "Overall, it was great learning advanced techniques such as Embedded layers, Convnets and LSTM networks and putting them into practise. It was very fascinating to see the different results and comparing them with the previous coursework. I felt as though these techniques are a lot harder to implement and get right because you need a deeper understanding of the work, as well as the models require more fine tuning and time to run, sometimes making trial and error in this case quite frustrating due to having to wait a substantial amount of time for each epoch.\n",
    "\n",
    "For the future, if I was to develop this even further, I would solely focus on the 1D Convnet model, because it produced good results as well as an adequate good to fit graph, so I feel as though with some more experimentation, I would be capable of creating a good model."
   ]
  },
  {
   "cell_type": "markdown",
   "metadata": {},
   "source": [
    "#### Reference(s)\n",
    "Francois Chollet. 2017. Deep Learning with Python (1st. ed.). Manning Publications Co., USA."
   ]
  }
 ],
 "metadata": {
  "kernelspec": {
   "display_name": "Python 3",
   "language": "python",
   "name": "python3"
  },
  "language_info": {
   "codemirror_mode": {
    "name": "ipython",
    "version": 3
   },
   "file_extension": ".py",
   "mimetype": "text/x-python",
   "name": "python",
   "nbconvert_exporter": "python",
   "pygments_lexer": "ipython3",
   "version": "3.8.5"
  }
 },
 "nbformat": 4,
 "nbformat_minor": 4
}
